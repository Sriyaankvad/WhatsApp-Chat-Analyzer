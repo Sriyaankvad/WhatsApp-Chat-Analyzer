{
 "cells": [
  {
   "cell_type": "code",
   "execution_count": null,
   "id": "32338b24",
   "metadata": {},
   "outputs": [],
   "source": [
    "import pandas as pd\n",
    "import numpy as np\n",
    "from matplotlib import pyplot as plt"
   ]
  },
  {
   "cell_type": "markdown",
   "id": "e2b6737a",
   "metadata": {},
   "source": [
    "Make Initial Dataframe"
   ]
  },
  {
   "cell_type": "code",
   "execution_count": null,
   "id": "77bf0fdf",
   "metadata": {},
   "outputs": [],
   "source": [
    "whatsapp_df = pd.read_fwf('_chat.txt', header = None)\n",
    "\n",
    "whatsapp_df"
   ]
  },
  {
   "cell_type": "markdown",
   "id": "49b04947",
   "metadata": {},
   "source": [
    "Remove Secondary Lines of Mulitline Code (Temporary Solution)"
   ]
  },
  {
   "cell_type": "code",
   "execution_count": null,
   "id": "2e581939",
   "metadata": {},
   "outputs": [],
   "source": [
    "whatsapp_df = whatsapp_df[whatsapp_df[0].str[0] == '[']\n",
    "whatsapp_df"
   ]
  },
  {
   "cell_type": "markdown",
   "id": "d86cd789",
   "metadata": {},
   "source": [
    "Reorganize Columns to contain the Message, Date and Time on Different Columns while Removing the Other Columns"
   ]
  },
  {
   "cell_type": "code",
   "execution_count": null,
   "id": "f7b098b9",
   "metadata": {},
   "outputs": [],
   "source": [
    "whatsapp_df[['Datetime', 'Message']] = whatsapp_df[0].str.split('] ', n = 1, expand = True)\n",
    "whatsapp_df['Datetime'] = whatsapp_df['Datetime'].str[1:]\n",
    "whatsapp_df[['Date', 'Time']] = whatsapp_df['Datetime'].str.split(', ', n = 1, expand = True)\n",
    "\n",
    "whatsapp_df.drop(columns=[col for col in whatsapp_df if col not in ['Message', 'Date', 'Time']], inplace=True)\n",
    "whatsapp_df"
   ]
  },
  {
   "cell_type": "markdown",
   "id": "1c7756d3",
   "metadata": {},
   "source": [
    "Add User Column, Removing All Messages Not Sent By A User"
   ]
  },
  {
   "cell_type": "code",
   "execution_count": null,
   "id": "6b082f8d",
   "metadata": {},
   "outputs": [],
   "source": [
    "whatsapp_df = whatsapp_df[whatsapp_df['Message'].str.contains(':') == True]\n",
    "whatsapp_df[['User', 'Message']] = whatsapp_df['Message'].str.split(': ', n = 1, expand = True)\n",
    "whatsapp_df"
   ]
  },
  {
   "cell_type": "markdown",
   "id": "a0071431",
   "metadata": {},
   "source": [
    "Extract Group Chat Name"
   ]
  },
  {
   "cell_type": "code",
   "execution_count": null,
   "id": "70e0e91d",
   "metadata": {},
   "outputs": [],
   "source": [
    "group_chat_name = whatsapp_df.iloc[0]['User'] # This is the message WhatsApp sends about end to end encryption\n",
    "whatsapp_df = whatsapp_df.iloc[1:,:] # Removes the message WhatsApp sends about end to end encryption\n",
    "group_chat_name"
   ]
  },
  {
   "cell_type": "markdown",
   "id": "33904858",
   "metadata": {},
   "source": [
    "Remove Media"
   ]
  },
  {
   "cell_type": "code",
   "execution_count": null,
   "id": "0399394a",
   "metadata": {},
   "outputs": [],
   "source": [
    "whatsapp_df = whatsapp_df[whatsapp_df['Date'].str[0] != '[']\n",
    "whatsapp_df"
   ]
  },
  {
   "cell_type": "markdown",
   "id": "d8c64319",
   "metadata": {},
   "source": [
    "Remove Calls"
   ]
  },
  {
   "cell_type": "code",
   "execution_count": null,
   "id": "e1810bfe",
   "metadata": {},
   "outputs": [],
   "source": [
    "whatsapp_df = whatsapp_df[~(whatsapp_df['Message'].str.contains(' started a video call') | whatsapp_df['Message'].str.contains(' started a call'))]\n",
    "whatsapp_df"
   ]
  },
  {
   "cell_type": "markdown",
   "id": "44c18fc2",
   "metadata": {},
   "source": [
    "Find the User Who Sent the Most Messages"
   ]
  },
  {
   "cell_type": "code",
   "execution_count": null,
   "id": "88254337",
   "metadata": {},
   "outputs": [],
   "source": [
    "user_df = whatsapp_df.groupby('User', as_index = False).count().sort_values(by = 'Message')\n",
    "user_df.drop(columns = ['Date', 'Time'], inplace = True)\n",
    "user_df = user_df.rename(columns = {'User': 'User', 'Message': 'Messages Sent'})\n",
    "user_df['Percentages'] = np.round(user_df['Messages Sent'].divide(other = (whatsapp_df.shape[0]/100)), 1)\n",
    "user_df"
   ]
  },
  {
   "cell_type": "markdown",
   "id": "63c3f32b",
   "metadata": {},
   "source": [
    "Plot This Data"
   ]
  },
  {
   "cell_type": "code",
   "execution_count": null,
   "id": "eb5b8e3d",
   "metadata": {},
   "outputs": [],
   "source": [
    "fig, ax = plt.subplots(figsize=(15,6))\n",
    "fig.tight_layout(pad=3.0)\n",
    "ax.pie(user_df['Percentages'], labels=['' for x in range(len(user_df))], autopct='%1.1f%%',\n",
    "        shadow=True, startangle=90)\n",
    "ax.axis('equal')\n",
    "ax.set_title(f'Percentage of Messages Sent in \\'{group_chat_name}\\'')\n",
    "plt.legend(loc=\"upper left\", labels = user_df['User'] + ' (' + user_df['Percentages'].astype(str) + '%)'  )\n",
    "plt.show()"
   ]
  }
 ],
 "metadata": {
  "kernelspec": {
   "display_name": "Python 3 (ipykernel)",
   "language": "python",
   "name": "python3"
  },
  "language_info": {
   "codemirror_mode": {
    "name": "ipython",
    "version": 3
   },
   "file_extension": ".py",
   "mimetype": "text/x-python",
   "name": "python",
   "nbconvert_exporter": "python",
   "pygments_lexer": "ipython3",
   "version": "3.9.7"
  }
 },
 "nbformat": 4,
 "nbformat_minor": 5
}
