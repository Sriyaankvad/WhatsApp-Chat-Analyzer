{
 "cells": [
  {
   "cell_type": "code",
   "execution_count": null,
   "id": "32338b24",
   "metadata": {},
   "outputs": [],
   "source": [
    "import pandas as pd\n",
    "import numpy as np\n",
    "import datetime\n",
    "from matplotlib import pyplot as plt"
   ]
  },
  {
   "cell_type": "markdown",
   "id": "6a842516",
   "metadata": {},
   "source": [
    "Make Initial Dataframe"
   ]
  },
  {
   "cell_type": "code",
   "execution_count": null,
   "id": "77bf0fdf",
   "metadata": {},
   "outputs": [],
   "source": [
    "whatsapp_df = pd.read_fwf('_chat.txt', header = None)\n",
    "\n",
    "whatsapp_df"
   ]
  },
  {
   "cell_type": "markdown",
   "id": "888d3535",
   "metadata": {},
   "source": [
    "Remove Media"
   ]
  },
  {
   "cell_type": "code",
   "execution_count": null,
   "id": "581b8f1d",
   "metadata": {},
   "outputs": [],
   "source": [
    "whatsapp_df = whatsapp_df[~whatsapp_df[0].str.contains('omitted')]\n",
    "whatsapp_df"
   ]
  },
  {
   "cell_type": "markdown",
   "id": "e082ff1e",
   "metadata": {},
   "source": [
    "Remove Calls"
   ]
  },
  {
   "cell_type": "code",
   "execution_count": null,
   "id": "295e9262",
   "metadata": {},
   "outputs": [],
   "source": [
    "whatsapp_df = whatsapp_df[~(whatsapp_df[0].str.contains(' started a video call') | whatsapp_df[0].str.contains(' started a call'))]\n",
    "whatsapp_df"
   ]
  },
  {
   "cell_type": "markdown",
   "id": "a0841651",
   "metadata": {},
   "source": [
    "Remove Secondary Lines of Mulitline Code (Temporary Solution)"
   ]
  },
  {
   "cell_type": "code",
   "execution_count": null,
   "id": "60a85568",
   "metadata": {},
   "outputs": [],
   "source": [
    "whatsapp_df = whatsapp_df[whatsapp_df[0].str[0] == '[']\n",
    "whatsapp_df"
   ]
  },
  {
   "cell_type": "markdown",
   "id": "d86cd789",
   "metadata": {},
   "source": [
    "Reorganize Columns to contain the Message, Date and Time on Different Columns while Removing the Other Columns"
   ]
  },
  {
   "cell_type": "code",
   "execution_count": null,
   "id": "f7b098b9",
   "metadata": {},
   "outputs": [],
   "source": [
    "whatsapp_df[['Datetime', 'Message']] = whatsapp_df[0].str.split('] ', n = 1, expand = True)\n",
    "# whatsapp_df['Datetime'] = whatsapp_df['Datetime'].str[1:]\n",
    "whatsapp_df['Datetime'] = pd.to_datetime(whatsapp_df.Datetime, format='[%m/%d/%y, %I:%M:%S %p')\n",
    "# whatsapp_df[['Date', 'Time']] = whatsapp_df['Datetime'].str.split(', ', n = 1, expand = True)\n",
    "\n",
    "# whatsapp_df.drop(columns=[col for col in whatsapp_df if col not in ['Message', 'Date', 'Time']], inplace=True)\n",
    "whatsapp_df.drop(columns=[col for col in whatsapp_df if col not in ['Message', 'Datetime']], inplace=True)\n",
    "whatsapp_df"
   ]
  },
  {
   "cell_type": "markdown",
   "id": "1c7756d3",
   "metadata": {},
   "source": [
    "Add User Column, Removing All Messages Not Sent By A User"
   ]
  },
  {
   "cell_type": "code",
   "execution_count": null,
   "id": "6b082f8d",
   "metadata": {},
   "outputs": [],
   "source": [
    "whatsapp_df = whatsapp_df[whatsapp_df['Message'].str.contains(':') == True]\n",
    "whatsapp_df[['User', 'Message']] = whatsapp_df['Message'].str.split(': ', n = 1, expand = True)\n",
    "whatsapp_df"
   ]
  },
  {
   "cell_type": "markdown",
   "id": "44c18fc2",
   "metadata": {},
   "source": [
    "Find the User Who Sent the Most Messages"
   ]
  },
  {
   "cell_type": "code",
   "execution_count": null,
   "id": "88254337",
   "metadata": {},
   "outputs": [],
   "source": [
    "user_df = whatsapp_df.groupby('User', as_index = False).count().sort_values(by = 'Message')\n",
    "user_df.drop(columns = ['Datetime'], inplace = True)\n",
    "user_df = user_df.rename(columns = {'User': 'User', 'Message': 'Messages Sent'})\n",
    "user_df['Percentages'] = np.round(user_df['Messages Sent'].divide(other = (whatsapp_df.shape[0]/100)), 1)\n",
    "user_df"
   ]
  },
  {
   "cell_type": "markdown",
   "id": "36400326",
   "metadata": {},
   "source": [
    "Extract Group Chat Name"
   ]
  },
  {
   "cell_type": "code",
   "execution_count": null,
   "id": "bc033675",
   "metadata": {},
   "outputs": [],
   "source": [
    "group_chat_name = whatsapp_df.iloc[0]['User'] # This is the message WhatsApp sends about end to end encryption\n",
    "whatsapp_df = whatsapp_df.iloc[1:,:] # Removes the message WhatsApp sends about end to end encryption\n",
    "group_chat_name"
   ]
  },
  {
   "cell_type": "markdown",
   "id": "9cf27cb0",
   "metadata": {},
   "source": [
    "Extract Start and End Date for Data"
   ]
  },
  {
   "cell_type": "code",
   "execution_count": null,
   "id": "222a6c11",
   "metadata": {},
   "outputs": [],
   "source": [
    "start_date = whatsapp_df.iloc[0]['Datetime'].strftime('%Y-%m-%d')\n",
    "end_date = whatsapp_df.iloc[-1]['Datetime'].strftime('%Y-%m-%d')\n",
    "start_date, end_date"
   ]
  },
  {
   "cell_type": "markdown",
   "id": "63c3f32b",
   "metadata": {},
   "source": [
    "Plot This Data"
   ]
  },
  {
   "cell_type": "code",
   "execution_count": null,
   "id": "eb5b8e3d",
   "metadata": {},
   "outputs": [],
   "source": [
    "fig, ax = plt.subplots(figsize=(15,6))\n",
    "fig.tight_layout(pad=3.0)\n",
    "ax.pie(user_df['Percentages'], labels=['' for x in range(len(user_df))], autopct='%1.1f%%',\n",
    "        shadow=True, startangle=90)\n",
    "ax.axis('equal')\n",
    "ax.set_title(f'Percentage of Messages Sent in \\'{group_chat_name}\\'')\n",
    "plt.legend(loc=\"upper left\", labels = user_df['User'] + ' (' + user_df['Percentages'].astype(str) + '%)'  )\n",
    "plt.show()"
   ]
  },
  {
   "cell_type": "markdown",
   "id": "8edf3197",
   "metadata": {},
   "source": [
    "Find the Hour the Group Chat is Most Active"
   ]
  },
  {
   "cell_type": "code",
   "execution_count": null,
   "id": "6d4e4e64",
   "metadata": {},
   "outputs": [],
   "source": [
    "hour_df = whatsapp_df.copy()\n",
    "hour_df['Hour'] = hour_df['Datetime'].apply(lambda datetime : datetime.hour)\n",
    "hour_df = hour_df.groupby('Hour', as_index = False).count()\n",
    "hour_df.drop(columns = ['Datetime', 'User'], inplace = True)\n",
    "hour_df = hour_df.rename(columns = {'Hour': 'Hour', 'Message': 'Messages Sent'})"
   ]
  },
  {
   "cell_type": "markdown",
   "id": "048b9baf",
   "metadata": {},
   "source": [
    "Convert Hour into 12 Hour Format"
   ]
  },
  {
   "cell_type": "code",
   "execution_count": null,
   "id": "82b05bed",
   "metadata": {},
   "outputs": [],
   "source": [
    "def num_to_hour(hour):\n",
    "    if hour == 0:\n",
    "        return '12 AM'\n",
    "    elif hour < 12:\n",
    "        return f'{hour} AM'\n",
    "    elif hour == 12:\n",
    "        return '12 PM'\n",
    "    else:\n",
    "        return f'{hour-12} PM'\n",
    "\n",
    "hour_df['Hour'] = hour_df['Hour'].apply(lambda hour: num_to_hour(hour))\n",
    "hour_df"
   ]
  },
  {
   "cell_type": "markdown",
   "id": "059104cd",
   "metadata": {},
   "source": [
    "Plot This Data"
   ]
  },
  {
   "cell_type": "code",
   "execution_count": null,
   "id": "337558eb",
   "metadata": {},
   "outputs": [],
   "source": [
    "fig, ax = plt.subplots(figsize=(15,6))\n",
    "fig.tight_layout(pad=3.0)\n",
    "plt.bar(hour_df['Hour'], \n",
    "        hour_df['Messages Sent'])\n",
    "plt.xlabel('Hour')\n",
    "plt.ylabel('Messages Sent')\n",
    "plt.title(f'Total Messages Sent per Hour on {group_chat_name} ({start_date} to {end_date})')\n",
    "plt.show()"
   ]
  },
  {
   "cell_type": "markdown",
   "id": "1a3402a9",
   "metadata": {},
   "source": [
    "Find What Months the Chat is Most Active"
   ]
  },
  {
   "cell_type": "code",
   "execution_count": null,
   "id": "4f744c79",
   "metadata": {},
   "outputs": [],
   "source": [
    "month_df = whatsapp_df.copy()\n",
    "month_df['Month'] = month_df['Datetime'].apply(lambda datetime : datetime.month)\n",
    "month_df = month_df.groupby('Month', sort = False, as_index = False).count()\n",
    "month_df.drop(columns = ['Datetime', 'User'], inplace = True)\n",
    "month_df = month_df.rename(columns = {'Month': 'Month', 'Message': 'Messages Sent'})\n",
    "num_to_month = {1: 'January', 2: 'February', 3: 'March', 4: 'April', 5: 'May', 6: 'June', \n",
    "                7: 'July', 8: 'August', 9: 'September', 10: 'October', 11: 'November', 12: 'December'}\n",
    "month_df['Month'] = month_df['Month'].apply(lambda num : num_to_month[num])\n",
    "month_df"
   ]
  },
  {
   "cell_type": "markdown",
   "id": "6f47fd2b",
   "metadata": {},
   "source": [
    "Plot This Data"
   ]
  },
  {
   "cell_type": "code",
   "execution_count": null,
   "id": "40c95f69",
   "metadata": {},
   "outputs": [],
   "source": [
    "fig, ax = plt.subplots(figsize=(15,6))\n",
    "fig.tight_layout(pad=3.0)\n",
    "plt.plot(month_df['Month'], month_df['Messages Sent'], color='green', marker='o', linestyle='dashed', linewidth=2, markersize=12)\n",
    "plt.xlabel('Month')\n",
    "plt.ylabel('Messages Sent')\n",
    "plt.title(f'Total Messages Sent per Month on {group_chat_name} ({start_date} to {end_date})')\n",
    "plt.show()"
   ]
  }
 ],
 "metadata": {
  "kernelspec": {
   "display_name": "Python 3 (ipykernel)",
   "language": "python",
   "name": "python3"
  },
  "language_info": {
   "codemirror_mode": {
    "name": "ipython",
    "version": 3
   },
   "file_extension": ".py",
   "mimetype": "text/x-python",
   "name": "python",
   "nbconvert_exporter": "python",
   "pygments_lexer": "ipython3",
   "version": "3.9.7"
  }
 },
 "nbformat": 4,
 "nbformat_minor": 5
}
