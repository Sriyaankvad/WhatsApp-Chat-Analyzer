{
 "cells": [
  {
   "cell_type": "code",
   "execution_count": 522,
   "id": "32338b24",
   "metadata": {},
   "outputs": [],
   "source": [
    "import pandas as pd\n",
    "from matplotlib import pyplot as plt"
   ]
  },
  {
   "cell_type": "markdown",
   "id": "6a842516",
   "metadata": {},
   "source": [
    "Make Initial Dataframe"
   ]
  },
  {
   "cell_type": "code",
   "execution_count": 523,
   "id": "77bf0fdf",
   "metadata": {},
   "outputs": [
    {
     "data": {
      "text/html": [
       "<div>\n",
       "<style scoped>\n",
       "    .dataframe tbody tr th:only-of-type {\n",
       "        vertical-align: middle;\n",
       "    }\n",
       "\n",
       "    .dataframe tbody tr th {\n",
       "        vertical-align: top;\n",
       "    }\n",
       "\n",
       "    .dataframe thead th {\n",
       "        text-align: right;\n",
       "    }\n",
       "</style>\n",
       "<table border=\"1\" class=\"dataframe\">\n",
       "  <thead>\n",
       "    <tr style=\"text-align: right;\">\n",
       "      <th></th>\n",
       "      <th>0</th>\n",
       "      <th>1</th>\n",
       "    </tr>\n",
       "  </thead>\n",
       "  <tbody>\n",
       "    <tr>\n",
       "      <th>0</th>\n",
       "      <td>[9/28/21, 7:07:33 PM] Tennis: ‎Messages and ca...</td>\n",
       "      <td>them.</td>\n",
       "    </tr>\n",
       "    <tr>\n",
       "      <th>1</th>\n",
       "      <td>[10/11/21, 10:40:01 PM] ‎‎‪RM changed their ph...</td>\n",
       "      <td>NaN</td>\n",
       "    </tr>\n",
       "    <tr>\n",
       "      <th>2</th>\n",
       "      <td>[3/14/22, 6:14:43 PM] AT: @phonenumber1 @phone...</td>\n",
       "      <td>NaN</td>\n",
       "    </tr>\n",
       "    <tr>\n",
       "      <th>3</th>\n",
       "      <td>[3/14/22, 6:14:59 PM] AY: I'll check the courts</td>\n",
       "      <td>NaN</td>\n",
       "    </tr>\n",
       "    <tr>\n",
       "      <th>4</th>\n",
       "      <td>[3/14/22, 6:15:05 PM] AY: My brother got the c...</td>\n",
       "      <td>NaN</td>\n",
       "    </tr>\n",
       "    <tr>\n",
       "      <th>...</th>\n",
       "      <td>...</td>\n",
       "      <td>...</td>\n",
       "    </tr>\n",
       "    <tr>\n",
       "      <th>800</th>\n",
       "      <td>[7/15/22, 4:58:26 PM] SV: Lol I have no idea h...</td>\n",
       "      <td>NaN</td>\n",
       "    </tr>\n",
       "    <tr>\n",
       "      <th>801</th>\n",
       "      <td>[7/15/22, 4:58:45 PM] AT: Yeah I gave it my be...</td>\n",
       "      <td>NaN</td>\n",
       "    </tr>\n",
       "    <tr>\n",
       "      <th>802</th>\n",
       "      <td>[7/15/22, 4:58:50 PM] SV: Lol</td>\n",
       "      <td>NaN</td>\n",
       "    </tr>\n",
       "    <tr>\n",
       "      <th>803</th>\n",
       "      <td>[7/15/22, 4:59:20 PM] PG: Lmfao</td>\n",
       "      <td>NaN</td>\n",
       "    </tr>\n",
       "    <tr>\n",
       "      <th>804</th>\n",
       "      <td>[7/15/22, 5:02:49 PM] PG: Had to do something,...</td>\n",
       "      <td>NaN</td>\n",
       "    </tr>\n",
       "  </tbody>\n",
       "</table>\n",
       "<p>805 rows × 2 columns</p>\n",
       "</div>"
      ],
      "text/plain": [
       "                                                     0      1\n",
       "0    [9/28/21, 7:07:33 PM] Tennis: ‎Messages and ca...  them.\n",
       "1    [10/11/21, 10:40:01 PM] ‎‎‪RM changed their ph...    NaN\n",
       "2    [3/14/22, 6:14:43 PM] AT: @phonenumber1 @phone...    NaN\n",
       "3      [3/14/22, 6:14:59 PM] AY: I'll check the courts    NaN\n",
       "4    [3/14/22, 6:15:05 PM] AY: My brother got the c...    NaN\n",
       "..                                                 ...    ...\n",
       "800  [7/15/22, 4:58:26 PM] SV: Lol I have no idea h...    NaN\n",
       "801  [7/15/22, 4:58:45 PM] AT: Yeah I gave it my be...    NaN\n",
       "802                      [7/15/22, 4:58:50 PM] SV: Lol    NaN\n",
       "803                    [7/15/22, 4:59:20 PM] PG: Lmfao    NaN\n",
       "804  [7/15/22, 5:02:49 PM] PG: Had to do something,...    NaN\n",
       "\n",
       "[805 rows x 2 columns]"
      ]
     },
     "execution_count": 523,
     "metadata": {},
     "output_type": "execute_result"
    }
   ],
   "source": [
    "chat_df = pd.read_fwf('_chat.txt', header = None)\n",
    "\n",
    "chat_df"
   ]
  },
  {
   "cell_type": "markdown",
   "id": "e082ff1e",
   "metadata": {},
   "source": [
    "Remove Calls"
   ]
  },
  {
   "cell_type": "code",
   "execution_count": 524,
   "id": "295e9262",
   "metadata": {},
   "outputs": [
    {
     "data": {
      "text/html": [
       "<div>\n",
       "<style scoped>\n",
       "    .dataframe tbody tr th:only-of-type {\n",
       "        vertical-align: middle;\n",
       "    }\n",
       "\n",
       "    .dataframe tbody tr th {\n",
       "        vertical-align: top;\n",
       "    }\n",
       "\n",
       "    .dataframe thead th {\n",
       "        text-align: right;\n",
       "    }\n",
       "</style>\n",
       "<table border=\"1\" class=\"dataframe\">\n",
       "  <thead>\n",
       "    <tr style=\"text-align: right;\">\n",
       "      <th></th>\n",
       "      <th>0</th>\n",
       "      <th>1</th>\n",
       "    </tr>\n",
       "  </thead>\n",
       "  <tbody>\n",
       "    <tr>\n",
       "      <th>0</th>\n",
       "      <td>[9/28/21, 7:07:33 PM] Tennis: ‎Messages and ca...</td>\n",
       "      <td>them.</td>\n",
       "    </tr>\n",
       "    <tr>\n",
       "      <th>1</th>\n",
       "      <td>[10/11/21, 10:40:01 PM] ‎‎‪RM changed their ph...</td>\n",
       "      <td>NaN</td>\n",
       "    </tr>\n",
       "    <tr>\n",
       "      <th>2</th>\n",
       "      <td>[3/14/22, 6:14:43 PM] AT: @phonenumber1 @phone...</td>\n",
       "      <td>NaN</td>\n",
       "    </tr>\n",
       "    <tr>\n",
       "      <th>3</th>\n",
       "      <td>[3/14/22, 6:14:59 PM] AY: I'll check the courts</td>\n",
       "      <td>NaN</td>\n",
       "    </tr>\n",
       "    <tr>\n",
       "      <th>4</th>\n",
       "      <td>[3/14/22, 6:15:05 PM] AY: My brother got the c...</td>\n",
       "      <td>NaN</td>\n",
       "    </tr>\n",
       "    <tr>\n",
       "      <th>...</th>\n",
       "      <td>...</td>\n",
       "      <td>...</td>\n",
       "    </tr>\n",
       "    <tr>\n",
       "      <th>800</th>\n",
       "      <td>[7/15/22, 4:58:26 PM] SV: Lol I have no idea h...</td>\n",
       "      <td>NaN</td>\n",
       "    </tr>\n",
       "    <tr>\n",
       "      <th>801</th>\n",
       "      <td>[7/15/22, 4:58:45 PM] AT: Yeah I gave it my be...</td>\n",
       "      <td>NaN</td>\n",
       "    </tr>\n",
       "    <tr>\n",
       "      <th>802</th>\n",
       "      <td>[7/15/22, 4:58:50 PM] SV: Lol</td>\n",
       "      <td>NaN</td>\n",
       "    </tr>\n",
       "    <tr>\n",
       "      <th>803</th>\n",
       "      <td>[7/15/22, 4:59:20 PM] PG: Lmfao</td>\n",
       "      <td>NaN</td>\n",
       "    </tr>\n",
       "    <tr>\n",
       "      <th>804</th>\n",
       "      <td>[7/15/22, 5:02:49 PM] PG: Had to do something,...</td>\n",
       "      <td>NaN</td>\n",
       "    </tr>\n",
       "  </tbody>\n",
       "</table>\n",
       "<p>805 rows × 2 columns</p>\n",
       "</div>"
      ],
      "text/plain": [
       "                                                     0      1\n",
       "0    [9/28/21, 7:07:33 PM] Tennis: ‎Messages and ca...  them.\n",
       "1    [10/11/21, 10:40:01 PM] ‎‎‪RM changed their ph...    NaN\n",
       "2    [3/14/22, 6:14:43 PM] AT: @phonenumber1 @phone...    NaN\n",
       "3      [3/14/22, 6:14:59 PM] AY: I'll check the courts    NaN\n",
       "4    [3/14/22, 6:15:05 PM] AY: My brother got the c...    NaN\n",
       "..                                                 ...    ...\n",
       "800  [7/15/22, 4:58:26 PM] SV: Lol I have no idea h...    NaN\n",
       "801  [7/15/22, 4:58:45 PM] AT: Yeah I gave it my be...    NaN\n",
       "802                      [7/15/22, 4:58:50 PM] SV: Lol    NaN\n",
       "803                    [7/15/22, 4:59:20 PM] PG: Lmfao    NaN\n",
       "804  [7/15/22, 5:02:49 PM] PG: Had to do something,...    NaN\n",
       "\n",
       "[805 rows x 2 columns]"
      ]
     },
     "execution_count": 524,
     "metadata": {},
     "output_type": "execute_result"
    }
   ],
   "source": [
    "chat_df = chat_df[~(chat_df[0].str.contains(' started a video call') | chat_df[0].str.contains(' started a call'))]\n",
    "chat_df.reset_index(drop=True, inplace=True)\n",
    "chat_df"
   ]
  },
  {
   "cell_type": "markdown",
   "id": "d86cd789",
   "metadata": {},
   "source": [
    "Reorganize Columns to contain the Message, Date and Time on Different Columns while Removing the Other Columns"
   ]
  },
  {
   "cell_type": "code",
   "execution_count": 525,
   "id": "f7b098b9",
   "metadata": {},
   "outputs": [
    {
     "data": {
      "text/html": [
       "<div>\n",
       "<style scoped>\n",
       "    .dataframe tbody tr th:only-of-type {\n",
       "        vertical-align: middle;\n",
       "    }\n",
       "\n",
       "    .dataframe tbody tr th {\n",
       "        vertical-align: top;\n",
       "    }\n",
       "\n",
       "    .dataframe thead th {\n",
       "        text-align: right;\n",
       "    }\n",
       "</style>\n",
       "<table border=\"1\" class=\"dataframe\">\n",
       "  <thead>\n",
       "    <tr style=\"text-align: right;\">\n",
       "      <th></th>\n",
       "      <th>Datetime</th>\n",
       "      <th>Message</th>\n",
       "    </tr>\n",
       "  </thead>\n",
       "  <tbody>\n",
       "    <tr>\n",
       "      <th>0</th>\n",
       "      <td>2021-09-28 19:07:33</td>\n",
       "      <td>Tennis: ‎Messages and calls are end-to-end enc...</td>\n",
       "    </tr>\n",
       "    <tr>\n",
       "      <th>1</th>\n",
       "      <td>2021-10-11 22:40:01</td>\n",
       "      <td>‎‎‪RM changed their phone number to a new numb...</td>\n",
       "    </tr>\n",
       "    <tr>\n",
       "      <th>2</th>\n",
       "      <td>2022-03-14 18:14:43</td>\n",
       "      <td>AT: @phonenumber1 @phonenumber2  are the nets ...</td>\n",
       "    </tr>\n",
       "    <tr>\n",
       "      <th>3</th>\n",
       "      <td>2022-03-14 18:14:59</td>\n",
       "      <td>AY: I'll check the courts</td>\n",
       "    </tr>\n",
       "    <tr>\n",
       "      <th>4</th>\n",
       "      <td>2022-03-14 18:15:05</td>\n",
       "      <td>AY: My brother got the courts</td>\n",
       "    </tr>\n",
       "    <tr>\n",
       "      <th>...</th>\n",
       "      <td>...</td>\n",
       "      <td>...</td>\n",
       "    </tr>\n",
       "    <tr>\n",
       "      <th>779</th>\n",
       "      <td>2022-07-15 16:58:26</td>\n",
       "      <td>SV: Lol I have no idea how to spell it</td>\n",
       "    </tr>\n",
       "    <tr>\n",
       "      <th>780</th>\n",
       "      <td>2022-07-15 16:58:45</td>\n",
       "      <td>AT: Yeah I gave it my best shot</td>\n",
       "    </tr>\n",
       "    <tr>\n",
       "      <th>781</th>\n",
       "      <td>2022-07-15 16:58:50</td>\n",
       "      <td>SV: Lol</td>\n",
       "    </tr>\n",
       "    <tr>\n",
       "      <th>782</th>\n",
       "      <td>2022-07-15 16:59:20</td>\n",
       "      <td>PG: Lmfao</td>\n",
       "    </tr>\n",
       "    <tr>\n",
       "      <th>783</th>\n",
       "      <td>2022-07-15 17:02:49</td>\n",
       "      <td>PG: Had to do something, am starting now to co...</td>\n",
       "    </tr>\n",
       "  </tbody>\n",
       "</table>\n",
       "<p>784 rows × 2 columns</p>\n",
       "</div>"
      ],
      "text/plain": [
       "               Datetime                                            Message\n",
       "0   2021-09-28 19:07:33  Tennis: ‎Messages and calls are end-to-end enc...\n",
       "1   2021-10-11 22:40:01  ‎‎‪RM changed their phone number to a new numb...\n",
       "2   2022-03-14 18:14:43  AT: @phonenumber1 @phonenumber2  are the nets ...\n",
       "3   2022-03-14 18:14:59                          AY: I'll check the courts\n",
       "4   2022-03-14 18:15:05                      AY: My brother got the courts\n",
       "..                  ...                                                ...\n",
       "779 2022-07-15 16:58:26             SV: Lol I have no idea how to spell it\n",
       "780 2022-07-15 16:58:45                    AT: Yeah I gave it my best shot\n",
       "781 2022-07-15 16:58:50                                            SV: Lol\n",
       "782 2022-07-15 16:59:20                                          PG: Lmfao\n",
       "783 2022-07-15 17:02:49  PG: Had to do something, am starting now to co...\n",
       "\n",
       "[784 rows x 2 columns]"
      ]
     },
     "execution_count": 525,
     "metadata": {},
     "output_type": "execute_result"
    }
   ],
   "source": [
    "chat_df[['Datetime', 'Message']] = chat_df[0].str.split('] ', n = 1, expand = True)\n",
    "chat_df['Datetime'] = pd.to_datetime(chat_df.Datetime, format='[%m/%d/%y, %I:%M:%S %p', errors='coerce')\n",
    "chat_df.drop(columns=[col for col in chat_df if col not in ['Message', 'Datetime']], inplace=True)\n",
    "chat_df = chat_df.dropna()\n",
    "chat_df.reset_index(drop=True, inplace=True)\n",
    "chat_df"
   ]
  },
  {
   "cell_type": "markdown",
   "id": "1c7756d3",
   "metadata": {},
   "source": [
    "Add User Column, Removing All Messages Not Sent By A User"
   ]
  },
  {
   "cell_type": "code",
   "execution_count": 526,
   "id": "6b082f8d",
   "metadata": {},
   "outputs": [
    {
     "name": "stderr",
     "output_type": "stream",
     "text": [
      "/Users/sriyaankvad/opt/anaconda3/lib/python3.9/site-packages/pandas/core/frame.py:3641: SettingWithCopyWarning: \n",
      "A value is trying to be set on a copy of a slice from a DataFrame.\n",
      "Try using .loc[row_indexer,col_indexer] = value instead\n",
      "\n",
      "See the caveats in the documentation: https://pandas.pydata.org/pandas-docs/stable/user_guide/indexing.html#returning-a-view-versus-a-copy\n",
      "  self[k1] = value[k2]\n"
     ]
    },
    {
     "data": {
      "text/html": [
       "<div>\n",
       "<style scoped>\n",
       "    .dataframe tbody tr th:only-of-type {\n",
       "        vertical-align: middle;\n",
       "    }\n",
       "\n",
       "    .dataframe tbody tr th {\n",
       "        vertical-align: top;\n",
       "    }\n",
       "\n",
       "    .dataframe thead th {\n",
       "        text-align: right;\n",
       "    }\n",
       "</style>\n",
       "<table border=\"1\" class=\"dataframe\">\n",
       "  <thead>\n",
       "    <tr style=\"text-align: right;\">\n",
       "      <th></th>\n",
       "      <th>Datetime</th>\n",
       "      <th>Message</th>\n",
       "      <th>User</th>\n",
       "    </tr>\n",
       "  </thead>\n",
       "  <tbody>\n",
       "    <tr>\n",
       "      <th>0</th>\n",
       "      <td>2021-09-28 19:07:33</td>\n",
       "      <td>‎Messages and calls are end-to-end encrypted. ...</td>\n",
       "      <td>Tennis</td>\n",
       "    </tr>\n",
       "    <tr>\n",
       "      <th>1</th>\n",
       "      <td>2022-03-14 18:14:43</td>\n",
       "      <td>@phonenumber1 @phonenumber2  are the nets up i...</td>\n",
       "      <td>AT</td>\n",
       "    </tr>\n",
       "    <tr>\n",
       "      <th>2</th>\n",
       "      <td>2022-03-14 18:14:59</td>\n",
       "      <td>I'll check the courts</td>\n",
       "      <td>AY</td>\n",
       "    </tr>\n",
       "    <tr>\n",
       "      <th>3</th>\n",
       "      <td>2022-03-14 18:15:05</td>\n",
       "      <td>My brother got the courts</td>\n",
       "      <td>AY</td>\n",
       "    </tr>\n",
       "    <tr>\n",
       "      <th>4</th>\n",
       "      <td>2022-03-14 18:15:07</td>\n",
       "      <td>Also</td>\n",
       "      <td>AY</td>\n",
       "    </tr>\n",
       "    <tr>\n",
       "      <th>...</th>\n",
       "      <td>...</td>\n",
       "      <td>...</td>\n",
       "      <td>...</td>\n",
       "    </tr>\n",
       "    <tr>\n",
       "      <th>775</th>\n",
       "      <td>2022-07-15 16:58:26</td>\n",
       "      <td>Lol I have no idea how to spell it</td>\n",
       "      <td>SV</td>\n",
       "    </tr>\n",
       "    <tr>\n",
       "      <th>776</th>\n",
       "      <td>2022-07-15 16:58:45</td>\n",
       "      <td>Yeah I gave it my best shot</td>\n",
       "      <td>AT</td>\n",
       "    </tr>\n",
       "    <tr>\n",
       "      <th>777</th>\n",
       "      <td>2022-07-15 16:58:50</td>\n",
       "      <td>Lol</td>\n",
       "      <td>SV</td>\n",
       "    </tr>\n",
       "    <tr>\n",
       "      <th>778</th>\n",
       "      <td>2022-07-15 16:59:20</td>\n",
       "      <td>Lmfao</td>\n",
       "      <td>PG</td>\n",
       "    </tr>\n",
       "    <tr>\n",
       "      <th>779</th>\n",
       "      <td>2022-07-15 17:02:49</td>\n",
       "      <td>Had to do something, am starting now to courts</td>\n",
       "      <td>PG</td>\n",
       "    </tr>\n",
       "  </tbody>\n",
       "</table>\n",
       "<p>780 rows × 3 columns</p>\n",
       "</div>"
      ],
      "text/plain": [
       "               Datetime                                            Message  \\\n",
       "0   2021-09-28 19:07:33  ‎Messages and calls are end-to-end encrypted. ...   \n",
       "1   2022-03-14 18:14:43  @phonenumber1 @phonenumber2  are the nets up i...   \n",
       "2   2022-03-14 18:14:59                              I'll check the courts   \n",
       "3   2022-03-14 18:15:05                          My brother got the courts   \n",
       "4   2022-03-14 18:15:07                                               Also   \n",
       "..                  ...                                                ...   \n",
       "775 2022-07-15 16:58:26                 Lol I have no idea how to spell it   \n",
       "776 2022-07-15 16:58:45                        Yeah I gave it my best shot   \n",
       "777 2022-07-15 16:58:50                                                Lol   \n",
       "778 2022-07-15 16:59:20                                              Lmfao   \n",
       "779 2022-07-15 17:02:49     Had to do something, am starting now to courts   \n",
       "\n",
       "       User  \n",
       "0    Tennis  \n",
       "1        AT  \n",
       "2        AY  \n",
       "3        AY  \n",
       "4        AY  \n",
       "..      ...  \n",
       "775      SV  \n",
       "776      AT  \n",
       "777      SV  \n",
       "778      PG  \n",
       "779      PG  \n",
       "\n",
       "[780 rows x 3 columns]"
      ]
     },
     "execution_count": 526,
     "metadata": {},
     "output_type": "execute_result"
    }
   ],
   "source": [
    "chat_df = chat_df[chat_df['Message'].str.contains(':') == True]\n",
    "chat_df[['User', 'Message']] = chat_df['Message'].str.split(': ', n = 1, expand = True)\n",
    "chat_df.reset_index(drop=True, inplace=True)\n",
    "chat_df"
   ]
  },
  {
   "cell_type": "markdown",
   "id": "36400326",
   "metadata": {},
   "source": [
    "Extract Group Chat Name"
   ]
  },
  {
   "cell_type": "code",
   "execution_count": 527,
   "id": "bc033675",
   "metadata": {},
   "outputs": [
    {
     "data": {
      "text/plain": [
       "'Tennis'"
      ]
     },
     "execution_count": 527,
     "metadata": {},
     "output_type": "execute_result"
    }
   ],
   "source": [
    "group_chat_name = chat_df.iloc[0]['User'] # This is the message WhatsApp sends about end to end encryption\n",
    "chat_df = chat_df.iloc[1:,:] # Removes the message WhatsApp sends about end to end encryption\n",
    "chat_df.reset_index(drop=True, inplace=True)\n",
    "group_chat_name"
   ]
  },
  {
   "cell_type": "markdown",
   "id": "9cf27cb0",
   "metadata": {},
   "source": [
    "Extract Start and End Date for Data"
   ]
  },
  {
   "cell_type": "code",
   "execution_count": 528,
   "id": "222a6c11",
   "metadata": {},
   "outputs": [
    {
     "data": {
      "text/plain": [
       "('2022-03-14', '2022-07-15')"
      ]
     },
     "execution_count": 528,
     "metadata": {},
     "output_type": "execute_result"
    }
   ],
   "source": [
    "start_date = chat_df.iloc[0]['Datetime'].strftime('%Y-%m-%d')\n",
    "end_date = chat_df.iloc[-1]['Datetime'].strftime('%Y-%m-%d')\n",
    "start_date, end_date"
   ]
  },
  {
   "cell_type": "markdown",
   "id": "44c18fc2",
   "metadata": {},
   "source": [
    "Find the User Who Sent the Most Messages"
   ]
  },
  {
   "cell_type": "code",
   "execution_count": 529,
   "id": "88254337",
   "metadata": {},
   "outputs": [
    {
     "data": {
      "text/html": [
       "<div>\n",
       "<style scoped>\n",
       "    .dataframe tbody tr th:only-of-type {\n",
       "        vertical-align: middle;\n",
       "    }\n",
       "\n",
       "    .dataframe tbody tr th {\n",
       "        vertical-align: top;\n",
       "    }\n",
       "\n",
       "    .dataframe thead th {\n",
       "        text-align: right;\n",
       "    }\n",
       "</style>\n",
       "<table border=\"1\" class=\"dataframe\">\n",
       "  <thead>\n",
       "    <tr style=\"text-align: right;\">\n",
       "      <th></th>\n",
       "      <th>User</th>\n",
       "      <th>Messages Sent</th>\n",
       "      <th>Percentages</th>\n",
       "    </tr>\n",
       "  </thead>\n",
       "  <tbody>\n",
       "    <tr>\n",
       "      <th>0</th>\n",
       "      <td>AT</td>\n",
       "      <td>209</td>\n",
       "      <td>26.8</td>\n",
       "    </tr>\n",
       "    <tr>\n",
       "      <th>1</th>\n",
       "      <td>PG</td>\n",
       "      <td>180</td>\n",
       "      <td>23.1</td>\n",
       "    </tr>\n",
       "    <tr>\n",
       "      <th>2</th>\n",
       "      <td>AY</td>\n",
       "      <td>170</td>\n",
       "      <td>21.8</td>\n",
       "    </tr>\n",
       "    <tr>\n",
       "      <th>3</th>\n",
       "      <td>SV</td>\n",
       "      <td>93</td>\n",
       "      <td>11.9</td>\n",
       "    </tr>\n",
       "    <tr>\n",
       "      <th>4</th>\n",
       "      <td>RM</td>\n",
       "      <td>78</td>\n",
       "      <td>10.0</td>\n",
       "    </tr>\n",
       "    <tr>\n",
       "      <th>5</th>\n",
       "      <td>MC</td>\n",
       "      <td>36</td>\n",
       "      <td>4.6</td>\n",
       "    </tr>\n",
       "    <tr>\n",
       "      <th>6</th>\n",
       "      <td>OD</td>\n",
       "      <td>10</td>\n",
       "      <td>1.3</td>\n",
       "    </tr>\n",
       "    <tr>\n",
       "      <th>7</th>\n",
       "      <td>FG</td>\n",
       "      <td>3</td>\n",
       "      <td>0.4</td>\n",
       "    </tr>\n",
       "  </tbody>\n",
       "</table>\n",
       "</div>"
      ],
      "text/plain": [
       "  User  Messages Sent  Percentages\n",
       "0   AT            209         26.8\n",
       "1   PG            180         23.1\n",
       "2   AY            170         21.8\n",
       "3   SV             93         11.9\n",
       "4   RM             78         10.0\n",
       "5   MC             36          4.6\n",
       "6   OD             10          1.3\n",
       "7   FG              3          0.4"
      ]
     },
     "execution_count": 529,
     "metadata": {},
     "output_type": "execute_result"
    }
   ],
   "source": [
    "user_df = chat_df.groupby('User', as_index = False).count().sort_values(by = 'Message', ascending=False)\n",
    "user_df.drop(columns = ['Datetime'], inplace = True)\n",
    "user_df = user_df.rename(columns = {'User': 'User', 'Message': 'Messages Sent'})\n",
    "user_df['Percentages'] = np.round(user_df['Messages Sent'].divide(other = (chat_df.shape[0]/100)), 1)\n",
    "user_df.reset_index(drop=True, inplace=True)\n",
    "user_df"
   ]
  },
  {
   "cell_type": "markdown",
   "id": "63c3f32b",
   "metadata": {},
   "source": [
    "Plot This Data"
   ]
  },
  {
   "cell_type": "code",
   "execution_count": 530,
   "id": "eb5b8e3d",
   "metadata": {},
   "outputs": [
    {
     "data": {
      "image/png": "[encoded data removed]",
      "text/plain": [
       "<Figure size 1080x432 with 1 Axes>"
      ]
     },
     "metadata": {},
     "output_type": "display_data"
    }
   ],
   "source": [
    "fig, ax = plt.subplots(figsize=(15,6))\n",
    "fig.tight_layout(pad=3.0)\n",
    "ax.pie(user_df['Percentages'], labels=['' for x in range(len(user_df))], autopct='%1.1f%%',\n",
    "        shadow=True, startangle=90)\n",
    "ax.axis('equal')\n",
    "ax.set_title(f'Percentage of Messages Sent in \\'{group_chat_name}\\'')\n",
    "plt.legend(loc=\"upper left\", labels = user_df['User'] + ' (' + user_df['Percentages'].astype(str) + '%)'  )\n",
    "plt.show()"
   ]
  },
  {
   "cell_type": "markdown",
   "id": "8edf3197",
   "metadata": {},
   "source": [
    "Find the Hour the Group Chat is Most Active"
   ]
  },
  {
   "cell_type": "code",
   "execution_count": 531,
   "id": "6d4e4e64",
   "metadata": {},
   "outputs": [],
   "source": [
    "hour_df = chat_df.copy()\n",
    "hour_df['Hour'] = hour_df['Datetime'].apply(lambda datetime : datetime.hour)\n",
    "hour_df = hour_df.groupby('Hour', as_index = False).count()\n",
    "hour_df.drop(columns = ['Datetime', 'User'], inplace = True)\n",
    "hour_df = hour_df.rename(columns = {'Hour': 'Hour', 'Message': 'Messages Sent'})"
   ]
  },
  {
   "cell_type": "markdown",
   "id": "048b9baf",
   "metadata": {},
   "source": [
    "Convert Hour into 12 Hour Format"
   ]
  },
  {
   "cell_type": "code",
   "execution_count": 532,
   "id": "82b05bed",
   "metadata": {},
   "outputs": [
    {
     "data": {
      "text/html": [
       "<div>\n",
       "<style scoped>\n",
       "    .dataframe tbody tr th:only-of-type {\n",
       "        vertical-align: middle;\n",
       "    }\n",
       "\n",
       "    .dataframe tbody tr th {\n",
       "        vertical-align: top;\n",
       "    }\n",
       "\n",
       "    .dataframe thead th {\n",
       "        text-align: right;\n",
       "    }\n",
       "</style>\n",
       "<table border=\"1\" class=\"dataframe\">\n",
       "  <thead>\n",
       "    <tr style=\"text-align: right;\">\n",
       "      <th></th>\n",
       "      <th>Hour</th>\n",
       "      <th>Messages Sent</th>\n",
       "    </tr>\n",
       "  </thead>\n",
       "  <tbody>\n",
       "    <tr>\n",
       "      <th>0</th>\n",
       "      <td>1 AM</td>\n",
       "      <td>1</td>\n",
       "    </tr>\n",
       "    <tr>\n",
       "      <th>1</th>\n",
       "      <td>9 AM</td>\n",
       "      <td>10</td>\n",
       "    </tr>\n",
       "    <tr>\n",
       "      <th>2</th>\n",
       "      <td>10 AM</td>\n",
       "      <td>34</td>\n",
       "    </tr>\n",
       "    <tr>\n",
       "      <th>3</th>\n",
       "      <td>11 AM</td>\n",
       "      <td>3</td>\n",
       "    </tr>\n",
       "    <tr>\n",
       "      <th>4</th>\n",
       "      <td>12 PM</td>\n",
       "      <td>62</td>\n",
       "    </tr>\n",
       "    <tr>\n",
       "      <th>5</th>\n",
       "      <td>1 PM</td>\n",
       "      <td>59</td>\n",
       "    </tr>\n",
       "    <tr>\n",
       "      <th>6</th>\n",
       "      <td>2 PM</td>\n",
       "      <td>34</td>\n",
       "    </tr>\n",
       "    <tr>\n",
       "      <th>7</th>\n",
       "      <td>3 PM</td>\n",
       "      <td>121</td>\n",
       "    </tr>\n",
       "    <tr>\n",
       "      <th>8</th>\n",
       "      <td>4 PM</td>\n",
       "      <td>166</td>\n",
       "    </tr>\n",
       "    <tr>\n",
       "      <th>9</th>\n",
       "      <td>5 PM</td>\n",
       "      <td>205</td>\n",
       "    </tr>\n",
       "    <tr>\n",
       "      <th>10</th>\n",
       "      <td>6 PM</td>\n",
       "      <td>65</td>\n",
       "    </tr>\n",
       "    <tr>\n",
       "      <th>11</th>\n",
       "      <td>7 PM</td>\n",
       "      <td>10</td>\n",
       "    </tr>\n",
       "    <tr>\n",
       "      <th>12</th>\n",
       "      <td>8 PM</td>\n",
       "      <td>2</td>\n",
       "    </tr>\n",
       "    <tr>\n",
       "      <th>13</th>\n",
       "      <td>10 PM</td>\n",
       "      <td>6</td>\n",
       "    </tr>\n",
       "    <tr>\n",
       "      <th>14</th>\n",
       "      <td>11 PM</td>\n",
       "      <td>1</td>\n",
       "    </tr>\n",
       "  </tbody>\n",
       "</table>\n",
       "</div>"
      ],
      "text/plain": [
       "     Hour  Messages Sent\n",
       "0    1 AM              1\n",
       "1    9 AM             10\n",
       "2   10 AM             34\n",
       "3   11 AM              3\n",
       "4   12 PM             62\n",
       "5    1 PM             59\n",
       "6    2 PM             34\n",
       "7    3 PM            121\n",
       "8    4 PM            166\n",
       "9    5 PM            205\n",
       "10   6 PM             65\n",
       "11   7 PM             10\n",
       "12   8 PM              2\n",
       "13  10 PM              6\n",
       "14  11 PM              1"
      ]
     },
     "execution_count": 532,
     "metadata": {},
     "output_type": "execute_result"
    }
   ],
   "source": [
    "def num_to_hour(hour):\n",
    "    if hour == 0:\n",
    "        return '12 AM'\n",
    "    elif hour < 12:\n",
    "        return f'{hour} AM'\n",
    "    elif hour == 12:\n",
    "        return '12 PM'\n",
    "    else:\n",
    "        return f'{hour-12} PM'\n",
    "\n",
    "hour_df['Hour'] = hour_df['Hour'].apply(lambda hour: num_to_hour(hour))\n",
    "hour_df"
   ]
  },
  {
   "cell_type": "markdown",
   "id": "059104cd",
   "metadata": {},
   "source": [
    "Plot This Data"
   ]
  },
  {
   "cell_type": "code",
   "execution_count": 533,
   "id": "337558eb",
   "metadata": {},
   "outputs": [
    {
     "data": {
      "image/png": "[encoded data removed]",
      "text/plain": [
       "<Figure size 1080x432 with 1 Axes>"
      ]
     },
     "metadata": {
      "needs_background": "light"
     },
     "output_type": "display_data"
    }
   ],
   "source": [
    "fig, ax = plt.subplots(figsize=(15,6))\n",
    "fig.tight_layout(pad=3.0)\n",
    "plt.bar(hour_df['Hour'], \n",
    "        hour_df['Messages Sent'])\n",
    "plt.xlabel('Hour')\n",
    "plt.ylabel('Messages Sent')\n",
    "plt.title(f'Total Messages Sent per Hour on {group_chat_name} ({start_date} to {end_date})')\n",
    "plt.show()"
   ]
  },
  {
   "cell_type": "markdown",
   "id": "8f372381",
   "metadata": {},
   "source": [
    "Show Changes in Group Chat Activity Each Month"
   ]
  },
  {
   "cell_type": "code",
   "execution_count": 534,
   "id": "3a94364b",
   "metadata": {},
   "outputs": [
    {
     "data": {
      "text/html": [
       "<div>\n",
       "<style scoped>\n",
       "    .dataframe tbody tr th:only-of-type {\n",
       "        vertical-align: middle;\n",
       "    }\n",
       "\n",
       "    .dataframe tbody tr th {\n",
       "        vertical-align: top;\n",
       "    }\n",
       "\n",
       "    .dataframe thead th {\n",
       "        text-align: right;\n",
       "    }\n",
       "</style>\n",
       "<table border=\"1\" class=\"dataframe\">\n",
       "  <thead>\n",
       "    <tr style=\"text-align: right;\">\n",
       "      <th></th>\n",
       "      <th>Month</th>\n",
       "      <th>Messages Sent</th>\n",
       "    </tr>\n",
       "  </thead>\n",
       "  <tbody>\n",
       "    <tr>\n",
       "      <th>0</th>\n",
       "      <td>March-2022</td>\n",
       "      <td>112</td>\n",
       "    </tr>\n",
       "    <tr>\n",
       "      <th>1</th>\n",
       "      <td>April-2022</td>\n",
       "      <td>75</td>\n",
       "    </tr>\n",
       "    <tr>\n",
       "      <th>2</th>\n",
       "      <td>May-2022</td>\n",
       "      <td>400</td>\n",
       "    </tr>\n",
       "    <tr>\n",
       "      <th>3</th>\n",
       "      <td>June-2022</td>\n",
       "      <td>11</td>\n",
       "    </tr>\n",
       "    <tr>\n",
       "      <th>4</th>\n",
       "      <td>July-2022</td>\n",
       "      <td>181</td>\n",
       "    </tr>\n",
       "  </tbody>\n",
       "</table>\n",
       "</div>"
      ],
      "text/plain": [
       "        Month  Messages Sent\n",
       "0  March-2022            112\n",
       "1  April-2022             75\n",
       "2    May-2022            400\n",
       "3   June-2022             11\n",
       "4   July-2022            181"
      ]
     },
     "execution_count": 534,
     "metadata": {},
     "output_type": "execute_result"
    }
   ],
   "source": [
    "month_df = chat_df.copy()\n",
    "num_to_month = {1: 'January', 2: 'February', 3: 'March', 4: 'April', 5: 'May', 6: 'June', \n",
    "                7: 'July', 8: 'August', 9: 'September', 10: 'October', 11: 'November', 12: 'December'}\n",
    "month_df['Month'] = month_df['Datetime'].apply(lambda datetime : f'{num_to_month[datetime.month]}-{datetime.year}')\n",
    "month_df = month_df.groupby('Month', sort = False, as_index = False).count()\n",
    "month_df.drop(columns = ['Datetime', 'User'], inplace = True)\n",
    "month_df = month_df.rename(columns = {'Month': 'Month', 'Message': 'Messages Sent'})\n",
    "month_df"
   ]
  },
  {
   "cell_type": "markdown",
   "id": "6f47fd2b",
   "metadata": {},
   "source": [
    "Plot This Data"
   ]
  },
  {
   "cell_type": "code",
   "execution_count": 535,
   "id": "40c95f69",
   "metadata": {},
   "outputs": [
    {
     "data": {
      "image/png": "[encoded data removed]",
      "text/plain": [
       "<Figure size 1080x432 with 1 Axes>"
      ]
     },
     "metadata": {
      "needs_background": "light"
     },
     "output_type": "display_data"
    }
   ],
   "source": [
    "fig, ax = plt.subplots(figsize=(15,6))\n",
    "fig.tight_layout(pad=3.0)\n",
    "plt.plot(month_df['Month'], month_df['Messages Sent'], color='green', marker='o', linestyle='dashed', linewidth=2, markersize=12)\n",
    "plt.xlabel('Month')\n",
    "plt.ylabel('Messages Sent')\n",
    "plt.xticks(rotation = 90)\n",
    "plt.title(f'Total Messages Sent per Month on {group_chat_name} ({start_date} to {end_date})')\n",
    "plt.show()"
   ]
  }
 ],
 "metadata": {
  "kernelspec": {
   "display_name": "Python 3 (ipykernel)",
   "language": "python",
   "name": "python3"
  },
  "language_info": {
   "codemirror_mode": {
    "name": "ipython",
    "version": 3
   },
   "file_extension": ".py",
   "mimetype": "text/x-python",
   "name": "python",
   "nbconvert_exporter": "python",
   "pygments_lexer": "ipython3",
   "version": "3.9.7"
  }
 },
 "nbformat": 4,
 "nbformat_minor": 5
}
